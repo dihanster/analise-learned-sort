{
  "nbformat": 4,
  "nbformat_minor": 0,
  "metadata": {
    "colab": {
      "name": "Gerador-Distribuições.ipynb",
      "provenance": [],
      "collapsed_sections": []
    },
    "kernelspec": {
      "name": "python3",
      "display_name": "Python 3"
    },
    "language_info": {
      "name": "python"
    }
  },
  "cells": [
    {
      "cell_type": "markdown",
      "metadata": {
        "id": "NO_8wSjv0vx_"
      },
      "source": [
        "# Gerador de Distribuições\n",
        "Notebook auxiliar para gerar amostras e gráficos de distribuição uniforme e normal."
      ]
    },
    {
      "cell_type": "code",
      "metadata": {
        "id": "4nlKoaXC3wFn"
      },
      "source": [
        "import seaborn as sns\n",
        "from scipy.stats import uniform\n",
        "from scipy.stats import norm"
      ],
      "execution_count": 1,
      "outputs": []
    },
    {
      "cell_type": "code",
      "metadata": {
        "id": "L-AtF5LS40Pu"
      },
      "source": [
        "n = 1000000\n",
        "start = 0\n",
        "width = 1"
      ],
      "execution_count": 2,
      "outputs": []
    },
    {
      "cell_type": "code",
      "metadata": {
        "colab": {
          "base_uri": "https://localhost:8080/",
          "height": 350
        },
        "id": "h7qJ0nFa49aH",
        "outputId": "6ebb2e6d-5a73-4c6c-e5af-4a2aa6f057ac"
      },
      "source": [
        "# Gera uma amostra uniforme de tamanho N, com valores entre 0 e 1.\n",
        "data_uniform = uniform.rvs(size=n, loc=start, scale=width)\n",
        "\n",
        "# Gera o grafico da distribuição gerada\n",
        "ax = sns.distplot(\n",
        "    data_uniform,\n",
        "    bins=100,\n",
        "    kde=True,\n",
        "    color='black',\n",
        "    hist_kws={\"linewidth\": 15,'alpha':1}\n",
        ")\n",
        "ax.set(xlabel='Distribuição Uniforme', ylabel='Frequência')"
      ],
      "execution_count": 3,
      "outputs": [
        {
          "output_type": "stream",
          "text": [
            "/usr/local/lib/python3.7/dist-packages/seaborn/distributions.py:2557: FutureWarning: `distplot` is a deprecated function and will be removed in a future version. Please adapt your code to use either `displot` (a figure-level function with similar flexibility) or `histplot` (an axes-level function for histograms).\n",
            "  warnings.warn(msg, FutureWarning)\n"
          ],
          "name": "stderr"
        },
        {
          "output_type": "execute_result",
          "data": {
            "text/plain": [
              "[Text(0, 0.5, 'Frequência'), Text(0.5, 0, 'Distribuição Uniforme')]"
            ]
          },
          "metadata": {
            "tags": []
          },
          "execution_count": 3
        },
        {
          "output_type": "display_data",
          "data": {
            "image/png": "[encoded data removed]",
            "text/plain": [
              "<Figure size 432x288 with 1 Axes>"
            ]
          },
          "metadata": {
            "tags": [],
            "needs_background": "light"
          }
        }
      ]
    },
    {
      "cell_type": "code",
      "metadata": {
        "colab": {
          "base_uri": "https://localhost:8080/",
          "height": 350
        },
        "id": "cnGnIVV15ACr",
        "outputId": "de98cbee-cb81-4616-8bef-b3e2d5c5088d"
      },
      "source": [
        "# Gera uma amostra uniforme de tamanho N, com média 0 e desvio padrão 1.\n",
        "data_normal = norm.rvs(size=n, loc=start, scale=width)\n",
        "\n",
        "# Gera o grafico da distribuição gerada\n",
        "ax = sns.distplot(\n",
        "    data_normal,\n",
        "    bins=100,\n",
        "    kde=True,\n",
        "    color='black',\n",
        "    hist_kws={\"linewidth\": 15,'alpha':1}\n",
        ")\n",
        "ax.set(xlabel='Distribuição Normal', ylabel='Frequência')"
      ],
      "execution_count": 4,
      "outputs": [
        {
          "output_type": "stream",
          "text": [
            "/usr/local/lib/python3.7/dist-packages/seaborn/distributions.py:2557: FutureWarning: `distplot` is a deprecated function and will be removed in a future version. Please adapt your code to use either `displot` (a figure-level function with similar flexibility) or `histplot` (an axes-level function for histograms).\n",
            "  warnings.warn(msg, FutureWarning)\n"
          ],
          "name": "stderr"
        },
        {
          "output_type": "execute_result",
          "data": {
            "text/plain": [
              "[Text(0, 0.5, 'Frequência'), Text(0.5, 0, 'Distribuição Normal')]"
            ]
          },
          "metadata": {
            "tags": []
          },
          "execution_count": 4
        },
        {
          "output_type": "display_data",
          "data": {
            "image/png": "[encoded data removed]",
            "text/plain": [
              "<Figure size 432x288 with 1 Axes>"
            ]
          },
          "metadata": {
            "tags": [],
            "needs_background": "light"
          }
        }
      ]
    }
  ]
}